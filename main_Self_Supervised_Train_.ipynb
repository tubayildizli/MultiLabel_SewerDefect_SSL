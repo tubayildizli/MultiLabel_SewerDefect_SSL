{
  "cells": [
    {
      "attachments": {},
      "cell_type": "markdown",
      "metadata": {
        "id": "6XzxTZfKwFNo"
      },
      "source": [
        "# Self_supervised training on 1-gpu with VISSL"
      ]
    },
    {
      "attachments": {},
      "cell_type": "markdown",
      "metadata": {},
      "source": [
        "## Generate custom dataset\n",
        "\n",
        "Note: (1) do not change the name of these folders: \"train\" and \"val\"; (2) put all your images into \"train/label1\" and \"train/label2\" folders in any split.\n",
        "\n",
        "```\n",
        "path/to/your/dataset\n",
        "├──train\n",
        "├  ├── label1/\n",
        "├  ├    ├── images1.jpg\n",
        "├  ├    ├── images2.jpg\n",
        "├  ├\n",
        "├  └── label2/\n",
        "├       ├── images1.jpg\n",
        "├       ├── images2.jpg\n",
        "├\n",
        "├──val (leave it empty)\n",
        "   ├── label1/\n",
        "   ├    ├── images1.jpg\n",
        "   ├    ├── images2.jpg\n",
        "   ├\n",
        "   └── label2/\n",
        "       ├── images1.jpg\n",
        "       ├── images2.jpg\n",
        "```\n",
        "\n",
        "Load custom dataset\n",
        "\n",
        "(1) Modify the custom dataset path in **\"tools/run_distributed_engines.py\"** file;\n",
        "\n",
        "(2) Add the project root path in **\"tools/run_distributed_engines.py\"** file."
      ]
    },
    {
      "cell_type": "code",
      "execution_count": null,
      "metadata": {},
      "outputs": [],
      "source": [
        "# (1) Modify the custom dataset path in the below code in \"tools/run_distributed_engines.py\" file;\n",
        "\n",
        "from vissl.data.dataset_catalog import VisslDatasetCatalog\n",
        "\n",
        "train_path=\"${YOUR_PROJECT_ROOT}/data/pretrain/train\"\n",
        "val_path=\"${YOUR_PROJECT_ROOT}/data/pretrain/val\"\n",
        "VisslDatasetCatalog.register_data(name=\"Sewer_ML\", data_dict={\"train\": train_path, \"test\": val_path})"
      ]
    },
    {
      "cell_type": "code",
      "execution_count": null,
      "metadata": {},
      "outputs": [],
      "source": [
        "# (2) Add the project root path in the second code in \"tools/run_distributed_engines.py\" file.\n",
        "\n",
        "import sys\n",
        "\n",
        "sys.path.append('${YOUR_PROJECT_ROOT}')"
      ]
    },
    {
      "attachments": {},
      "cell_type": "markdown",
      "metadata": {},
      "source": [
        "## SwAV\n",
        "\n",
        "Steps:\n",
        "\n",
        "(a) Pretrained ResNet101 on ImageNet-1k dataset (1k categories, 1.2 million images); The weight can be downloaded from: \n",
        "\n",
        "https://dl.fbaipublicfiles.com/detectron2/ImageNetPretrained/MSRA/R-101.pkl\n",
        "\n",
        "(b) Modify the hyperparameters in **\"pretrain/swav/XXX.yaml\"** file if needed, e.g., data augmentation;\n",
        "\n",
        "(c) Modify the hyperparameters in the code below, e.g., batch size, epoches, output path;\n",
        "\n",
        "(d) Train the full model (all layers) on the custom dataset"
      ]
    },
    {
      "attachments": {},
      "cell_type": "markdown",
      "metadata": {},
      "source": [
        "#### ResNet101 with ImageNet weights"
      ]
    },
    {
      "cell_type": "code",
      "execution_count": null,
      "metadata": {},
      "outputs": [],
      "source": [
        "# SwAV\n",
        "# backbone: RN101\n",
        "# Pretrained on ImageNet, and fine tune all layers (FTAL)\n",
        "\n",
        "!python tools/run_distributed_engines.py \\\n",
        "  hydra.verbose=true \\\n",
        "  config=pretrain/swav/swav_1_gpu_resnet101.yaml \\\n",
        "  config.DATA.TRAIN.DATASET_NAMES=[Sewer_ML] \\\n",
        "  config.DATA.TRAIN.DATA_SOURCES=[disk_folder] \\\n",
        "  config.DATA.TRAIN.DATA_PATHS=\"${YOUR_PROJECT_ROOT}/data/pretrain/train\" \\\n",
        "  config.OPTIMIZER.num_epochs=100 \\\n",
        "  config.CHECKPOINT.DIR=\"${YOUR_PROJECT_ROOT}checkpoints/swav_weights/SW_RN101/vissl\" \\\n",
        "  config.HOOKS.TENSORBOARD_SETUP.USE_TENSORBOARD=true \\\n",
        "  config.WEIGHTS_INIT.PARAMS_FILE=\"${YOUR_PROJECT_ROOT}/checkpoints/pretrained_model/R-101.pkl\" \\\n",
        "  config.WEIGHTS_INIT.APPEND_PREFIX=\"trunk._feature_blocks.\"\n"
      ]
    },
    {
      "attachments": {},
      "cell_type": "markdown",
      "metadata": {
        "id": "9xFUcTj00B_a"
      },
      "source": [
        "## Training logs, checkpoints, metrics (optional)\n",
        "\n",
        "VISSL dumps model checkpoints in the checkpoint directory specified by user. In above example, we used `./checkpoints` directory.\n",
        "\n",
        "We notice:\n",
        "- model checkpoints `.torch` files after every epoch, \n",
        "- model training log `log.txt` which has the full stdout but saved in file\n",
        "- `metrics.json` if your training calculated some metrics, those metrics values will be saved there..\n",
        "- `tb_logs` which are the tensorboard events"
      ]
    },
    {
      "attachments": {},
      "cell_type": "markdown",
      "metadata": {
        "id": "Ni3TizhIvWmK"
      },
      "source": [
        "## Visualizing Tensorboard Logs (optional)\n",
        "\n",
        "If you have enabled `config.TENSORBOARD_SETUP.USE_TENSORBOARD=true` , you will see the tensorboard events dumped in `tb_logs/` directory. You can use this to visualize the events in tensorboard as follows:"
      ]
    },
    {
      "cell_type": "code",
      "execution_count": null,
      "metadata": {},
      "outputs": [],
      "source": [
        "# Look at training curves in tensorboard:\n",
        "%reload_ext tensorboard\n",
        "%tensorboard --logdir /scratch/tyldzl/PythonProject/sewer_defects_SSL/checkpoints/train_weights/Self_train_bbox/SimCLR_50_epochs/vissl/tb_logs/"
      ]
    }
  ],
  "metadata": {
    "accelerator": "GPU",
    "colab": {
      "collapsed_sections": [],
      "include_colab_link": true,
      "name": "Train SimCLR on 1 gpu V0.1.6.ipynb",
      "provenance": []
    },
    "kernelspec": {
      "display_name": "DP_SSL_gpu",
      "language": "python",
      "name": "python3"
    },
    "language_info": {
      "codemirror_mode": {
        "name": "ipython",
        "version": 3
      },
      "file_extension": ".py",
      "mimetype": "text/x-python",
      "name": "python",
      "nbconvert_exporter": "python",
      "pygments_lexer": "ipython3",
      "version": "3.10.13"
    },
    "vscode": {
      "interpreter": {
        "hash": "dbbe8bc68948aa4d867a11751be32290236d08d1e79f7c977f6ca048c3b7322a"
      }
    }
  },
  "nbformat": 4,
  "nbformat_minor": 2
}
